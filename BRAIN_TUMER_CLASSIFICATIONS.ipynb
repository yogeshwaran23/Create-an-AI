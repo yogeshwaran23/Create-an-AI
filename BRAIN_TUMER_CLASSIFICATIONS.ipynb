{
  "cells": [
    {
      "cell_type": "markdown",
      "metadata": {
        "id": "view-in-github",
        "colab_type": "text"
      },
      "source": [
        "<a href=\"https://colab.research.google.com/github/yogeshwaran23/Create-an-AI/blob/main/BRAIN_TUMER_CLASSIFICATIONS.ipynb\" target=\"_parent\"><img src=\"https://colab.research.google.com/assets/colab-badge.svg\" alt=\"Open In Colab\"/></a>"
      ]
    },
    {
      "cell_type": "code",
      "execution_count": null,
      "metadata": {
        "id": "tcZQbHzT_J-R"
      },
      "outputs": [],
      "source": [
        "import tensorflow as tf\n",
        "from keras.preprocessing.image import ImageDataGenerator\n",
        "import pandas"
      ]
    },
    {
      "cell_type": "code",
      "execution_count": null,
      "metadata": {
        "id": "YXUC6PaPFnIt",
        "outputId": "3bb951dd-fefb-486d-ffd1-1b6401e4b32d"
      },
      "outputs": [
        {
          "name": "stdout",
          "output_type": "stream",
          "text": [
            "Found 5712 images belonging to 4 classes.\n",
            "Found 1311 images belonging to 4 classes.\n"
          ]
        }
      ],
      "source": [
        "## CONVERTING THE IMAGE INTO THE ARRAY\n",
        "\n",
        "\n",
        "\n",
        "\n",
        "#PREPROCESSING OF TRAINING SET\n",
        "train_datagen = ImageDataGenerator(rescale = 1./255,\n",
        "                                   shear_range = 0.2,\n",
        "                                   zoom_range = 0.2,\n",
        "                                   horizontal_flip = True)\n",
        "training_set = train_datagen.flow_from_directory('DATASHEET/Training',\n",
        "                                                 target_size = (150, 150),\n",
        "                                                 batch_size = 100,\n",
        "                                                 class_mode = 'categorical')\n",
        "\n",
        "#PREPROCESSING OF TEST SET\n",
        "test_datagen = ImageDataGenerator(rescale = 1./255)\n",
        "test_set = test_datagen.flow_from_directory('DATASHEET/Testing',\n",
        "                                            target_size = (150, 150),\n",
        "                                            batch_size = 100,\n",
        "                                            class_mode = 'categorical')\n",
        "\n"
      ]
    },
    {
      "cell_type": "code",
      "execution_count": null,
      "metadata": {
        "id": "gp6jw_4Uzd-f"
      },
      "outputs": [],
      "source": []
    },
    {
      "cell_type": "code",
      "execution_count": null,
      "metadata": {
        "id": "d6Zf2vCHzd-f"
      },
      "outputs": [],
      "source": [
        "#building an model of VGG16\n",
        "\n",
        "from keras.applications import vgg16\n",
        "\n",
        "vgg=vgg16.VGG16(weights='imagenet',include_top=False,input_shape=(150,150,3))\n",
        "\n",
        "#Freeze the layers\n",
        "for layers in vgg.layers:\n",
        "  layers.trainable=False\n"
      ]
    },
    {
      "cell_type": "code",
      "execution_count": null,
      "metadata": {
        "id": "lYDQJYiEzd-f"
      },
      "outputs": [],
      "source": [
        "from keras.src.layers.serialization import activation\n",
        "from keras.src.layers import GlobalAveragePooling2D\n",
        "def toplayers(Toplayer,number_class):\n",
        "  Bottomlayer=Toplayer.output\n",
        "  Bottomlayer=GlobalAveragePooling2D()(Bottomlayer)\n",
        "  Bottomlayer=Dense(1024,activation='relu')(Bottomlayer)\n",
        "  Bottomlayer=Dense(1024,activation='relu')(Bottomlayer)\n",
        "  Bottomlayer=Dense(1024,activation='relu')(Bottomlayer)\n",
        "  Bottomlayer=Dense(number_class,activation='softmax')(Bottomlayer)\n",
        "  return Bottomlayer"
      ]
    },
    {
      "cell_type": "code",
      "execution_count": null,
      "metadata": {
        "id": "04vM6jg8zd-g",
        "outputId": "2f18e0ec-9068-427c-dbd6-c13df5bba7cf"
      },
      "outputs": [
        {
          "name": "stdout",
          "output_type": "stream",
          "text": [
            "Model: \"model_18\"\n",
            "_________________________________________________________________\n",
            " Layer (type)                Output Shape              Param #   \n",
            "=================================================================\n",
            " input_7 (InputLayer)        [(None, 150, 150, 3)]     0         \n",
            "                                                                 \n",
            " block1_conv1 (Conv2D)       (None, 150, 150, 64)      1792      \n",
            "                                                                 \n",
            " block1_conv2 (Conv2D)       (None, 150, 150, 64)      36928     \n",
            "                                                                 \n",
            " block1_pool (MaxPooling2D)  (None, 75, 75, 64)        0         \n",
            "                                                                 \n",
            " block2_conv1 (Conv2D)       (None, 75, 75, 128)       73856     \n",
            "                                                                 \n",
            " block2_conv2 (Conv2D)       (None, 75, 75, 128)       147584    \n",
            "                                                                 \n",
            " block2_pool (MaxPooling2D)  (None, 37, 37, 128)       0         \n",
            "                                                                 \n",
            " block3_conv1 (Conv2D)       (None, 37, 37, 256)       295168    \n",
            "                                                                 \n",
            " block3_conv2 (Conv2D)       (None, 37, 37, 256)       590080    \n",
            "                                                                 \n",
            " block3_conv3 (Conv2D)       (None, 37, 37, 256)       590080    \n",
            "                                                                 \n",
            " block3_pool (MaxPooling2D)  (None, 18, 18, 256)       0         \n",
            "                                                                 \n",
            " block4_conv1 (Conv2D)       (None, 18, 18, 512)       1180160   \n",
            "                                                                 \n",
            " block4_conv2 (Conv2D)       (None, 18, 18, 512)       2359808   \n",
            "                                                                 \n",
            " block4_conv3 (Conv2D)       (None, 18, 18, 512)       2359808   \n",
            "                                                                 \n",
            " block4_pool (MaxPooling2D)  (None, 9, 9, 512)         0         \n",
            "                                                                 \n",
            " block5_conv1 (Conv2D)       (None, 9, 9, 512)         2359808   \n",
            "                                                                 \n",
            " block5_conv2 (Conv2D)       (None, 9, 9, 512)         2359808   \n",
            "                                                                 \n",
            " block5_conv3 (Conv2D)       (None, 9, 9, 512)         2359808   \n",
            "                                                                 \n",
            " block5_pool (MaxPooling2D)  (None, 4, 4, 512)         0         \n",
            "                                                                 \n",
            " global_average_pooling2d_1  (None, 512)               0         \n",
            " 8 (GlobalAveragePooling2D)                                      \n",
            "                                                                 \n",
            " dense_72 (Dense)            (None, 1024)              525312    \n",
            "                                                                 \n",
            " dense_73 (Dense)            (None, 1024)              1049600   \n",
            "                                                                 \n",
            " dense_74 (Dense)            (None, 1024)              1049600   \n",
            "                                                                 \n",
            " dense_75 (Dense)            (None, 4)                 4100      \n",
            "                                                                 \n",
            "=================================================================\n",
            "Total params: 17343300 (66.16 MB)\n",
            "Trainable params: 2628612 (10.03 MB)\n",
            "Non-trainable params: 14714688 (56.13 MB)\n",
            "_________________________________________________________________\n",
            "None\n"
          ]
        }
      ],
      "source": [
        "from keras.models import Model\n",
        "from keras.models import Sequential\n",
        "from keras.layers import Dense, Dropout, Activation, Flatten, GlobalAveragePooling2D\n",
        "from keras.layers import Conv2D, MaxPooling2D, ZeroPadding2D\n",
        "\n",
        "\n",
        "FC_Head = toplayers(vgg, 4)\n",
        "\n",
        "model = Model(inputs = vgg.input, outputs = FC_Head)\n",
        "\n",
        "print(model.summary())"
      ]
    },
    {
      "cell_type": "code",
      "execution_count": null,
      "metadata": {
        "id": "rf16BVhUzd-h",
        "outputId": "daab91c1-fe88-4314-e24f-5498437b86b8"
      },
      "outputs": [
        {
          "name": "stdout",
          "output_type": "stream",
          "text": [
            "Epoch 1/25\n",
            "58/58 [==============================] - 357s 6s/step - loss: 0.8347 - accuracy: 0.6625 - val_loss: 0.5925 - val_accuracy: 0.7750\n",
            "Epoch 2/25\n",
            "58/58 [==============================] - 344s 6s/step - loss: 0.4469 - accuracy: 0.8325 - val_loss: 0.5317 - val_accuracy: 0.7872\n",
            "Epoch 3/25\n",
            "58/58 [==============================] - 343s 6s/step - loss: 0.3875 - accuracy: 0.8484 - val_loss: 0.4671 - val_accuracy: 0.8284\n",
            "Epoch 4/25\n",
            "58/58 [==============================] - 346s 6s/step - loss: 0.3496 - accuracy: 0.8680 - val_loss: 0.5049 - val_accuracy: 0.8276\n",
            "Epoch 5/25\n",
            "58/58 [==============================] - 347s 6s/step - loss: 0.3196 - accuracy: 0.8834 - val_loss: 0.3705 - val_accuracy: 0.8551\n",
            "Epoch 6/25\n",
            "58/58 [==============================] - 347s 6s/step - loss: 0.2992 - accuracy: 0.8915 - val_loss: 0.4802 - val_accuracy: 0.8391\n",
            "Epoch 7/25\n",
            "58/58 [==============================] - 352s 6s/step - loss: 0.2845 - accuracy: 0.8953 - val_loss: 0.3777 - val_accuracy: 0.8574\n",
            "Epoch 8/25\n",
            "58/58 [==============================] - 347s 6s/step - loss: 0.2644 - accuracy: 0.8985 - val_loss: 0.3417 - val_accuracy: 0.8764\n",
            "Epoch 9/25\n",
            "58/58 [==============================] - 347s 6s/step - loss: 0.2561 - accuracy: 0.9011 - val_loss: 0.3119 - val_accuracy: 0.8802\n",
            "Epoch 10/25\n",
            "58/58 [==============================] - 347s 6s/step - loss: 0.2691 - accuracy: 0.9023 - val_loss: 0.3596 - val_accuracy: 0.8719\n",
            "Epoch 11/25\n",
            "58/58 [==============================] - 349s 6s/step - loss: 0.2280 - accuracy: 0.9151 - val_loss: 0.3476 - val_accuracy: 0.8749\n",
            "Epoch 12/25\n",
            "58/58 [==============================] - 356s 6s/step - loss: 0.2434 - accuracy: 0.9065 - val_loss: 0.4083 - val_accuracy: 0.8635\n",
            "Epoch 13/25\n",
            "58/58 [==============================] - 361s 6s/step - loss: 0.2277 - accuracy: 0.9135 - val_loss: 0.3961 - val_accuracy: 0.8558\n",
            "Epoch 14/25\n",
            "58/58 [==============================] - 334s 6s/step - loss: 0.2292 - accuracy: 0.9158 - val_loss: 0.2293 - val_accuracy: 0.9123\n",
            "Epoch 15/25\n",
            "58/58 [==============================] - 334s 6s/step - loss: 0.2295 - accuracy: 0.9133 - val_loss: 0.3077 - val_accuracy: 0.8963\n",
            "Epoch 16/25\n",
            "58/58 [==============================] - 350s 6s/step - loss: 0.1806 - accuracy: 0.9310 - val_loss: 0.3535 - val_accuracy: 0.8833\n",
            "Epoch 17/25\n",
            "58/58 [==============================] - 331s 6s/step - loss: 0.2028 - accuracy: 0.9238 - val_loss: 0.2184 - val_accuracy: 0.9108\n",
            "Epoch 18/25\n",
            "58/58 [==============================] - 326s 6s/step - loss: 0.1987 - accuracy: 0.9280 - val_loss: 0.2556 - val_accuracy: 0.9031\n",
            "Epoch 19/25\n",
            "58/58 [==============================] - 354s 6s/step - loss: 0.2109 - accuracy: 0.9207 - val_loss: 0.3014 - val_accuracy: 0.8863\n",
            "Epoch 20/25\n",
            "58/58 [==============================] - 362s 6s/step - loss: 0.1666 - accuracy: 0.9354 - val_loss: 0.3652 - val_accuracy: 0.8810\n",
            "Epoch 21/25\n",
            "58/58 [==============================] - 362s 6s/step - loss: 0.1603 - accuracy: 0.9379 - val_loss: 0.2398 - val_accuracy: 0.9146\n",
            "Epoch 22/25\n",
            "58/58 [==============================] - 359s 6s/step - loss: 0.1766 - accuracy: 0.9324 - val_loss: 0.2973 - val_accuracy: 0.8894\n",
            "Epoch 23/25\n",
            "58/58 [==============================] - 356s 6s/step - loss: 0.1743 - accuracy: 0.9296 - val_loss: 0.2260 - val_accuracy: 0.9153\n",
            "Epoch 24/25\n",
            "58/58 [==============================] - 347s 6s/step - loss: 0.1851 - accuracy: 0.9300 - val_loss: 0.2294 - val_accuracy: 0.9153\n",
            "Epoch 25/25\n",
            "58/58 [==============================] - 389s 7s/step - loss: 0.1615 - accuracy: 0.9371 - val_loss: 0.2461 - val_accuracy: 0.9138\n"
          ]
        },
        {
          "data": {
            "text/plain": [
              "<keras.src.callbacks.History at 0x25917191990>"
            ]
          },
          "execution_count": 70,
          "metadata": {},
          "output_type": "execute_result"
        }
      ],
      "source": [
        "\n",
        "model.compile(optimizer='adam', loss='categorical_crossentropy', metrics=['accuracy'])\n",
        "model.fit(x = training_set, validation_data = test_set, epochs = 25)"
      ]
    },
    {
      "cell_type": "code",
      "execution_count": null,
      "metadata": {
        "id": "EpKrFlD0zd-h",
        "outputId": "27bbb3cc-6546-4389-f550-1f194153df08"
      },
      "outputs": [
        {
          "name": "stdout",
          "output_type": "stream",
          "text": [
            "1/1 [==============================] - 0s 111ms/step\n",
            "[[0.0000000e+00 1.0000000e+00 8.0983783e-29 0.0000000e+00]]\n"
          ]
        },
        {
          "data": {
            "text/plain": [
              "{'glioma': 0, 'meningioma': 1, 'notumor': 2, 'pituitary': 3}"
            ]
          },
          "execution_count": 130,
          "metadata": {},
          "output_type": "execute_result"
        }
      ],
      "source": [
        "#Predicting the result\n",
        "import numpy as np\n",
        "from keras.preprocessing import image\n",
        "test_image=image.load_img('DATASHEET/predict/m_2.jpg',target_size=(150,150))\n",
        "test_image=image.img_to_array(test_image)\n",
        "test_image=np.expand_dims(test_image,axis=0)\n",
        "\n",
        "result=model.predict(test_image)\n",
        "print(result)\n",
        "\n",
        "training_set.class_indices"
      ]
    },
    {
      "cell_type": "code",
      "execution_count": null,
      "metadata": {
        "id": "zr6paEfjzd-i",
        "outputId": "6de1fcfb-e8bd-40ce-93f3-871b21fb2064"
      },
      "outputs": [
        {
          "name": "stdout",
          "output_type": "stream",
          "text": [
            "meningioma\n"
          ]
        }
      ],
      "source": [
        "if(result[0][0]==1):\n",
        "    print('glioma')\n",
        "elif(result[0][1]==1):\n",
        "    print('meningioma')\n",
        "elif(result[0][2]==1):\n",
        "    print('notumor')\n",
        "else:\n",
        "    print('pituitary')\n",
        "\n",
        ""
      ]
    }
  ],
  "metadata": {
    "colab": {
      "provenance": [],
      "include_colab_link": true
    },
    "kernelspec": {
      "display_name": "Python 3 (ipykernel)",
      "language": "python",
      "name": "python3"
    },
    "language_info": {
      "codemirror_mode": {
        "name": "ipython",
        "version": 3
      },
      "file_extension": ".py",
      "mimetype": "text/x-python",
      "name": "python",
      "nbconvert_exporter": "python",
      "pygments_lexer": "ipython3",
      "version": "3.11.4"
    }
  },
  "nbformat": 4,
  "nbformat_minor": 0
}